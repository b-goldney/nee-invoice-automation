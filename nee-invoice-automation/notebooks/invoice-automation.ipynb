{
 "cells": [
  {
   "cell_type": "code",
   "execution_count": 6,
   "metadata": {},
   "outputs": [],
   "source": [
    "import pandas as pd\n",
    "import openpyxl\n",
    "from openpyxl import load_workbook"
   ]
  },
  {
   "cell_type": "code",
   "execution_count": 3,
   "metadata": {},
   "outputs": [
    {
     "data": {
      "text/html": [
       "<div>\n",
       "<style scoped>\n",
       "    .dataframe tbody tr th:only-of-type {\n",
       "        vertical-align: middle;\n",
       "    }\n",
       "\n",
       "    .dataframe tbody tr th {\n",
       "        vertical-align: top;\n",
       "    }\n",
       "\n",
       "    .dataframe thead th {\n",
       "        text-align: right;\n",
       "    }\n",
       "</style>\n",
       "<table border=\"1\" class=\"dataframe\">\n",
       "  <thead>\n",
       "    <tr style=\"text-align: right;\">\n",
       "      <th></th>\n",
       "      <th>Unnamed: 0</th>\n",
       "      <th>Vendor Name</th>\n",
       "      <th>DATE - Split Order Requested to Ship Date</th>\n",
       "      <th>Split Order Number</th>\n",
       "      <th>SKU ID (Vendor SKU ID)</th>\n",
       "      <th>Product Name</th>\n",
       "      <th>Order Item Quantity (# of units ordered)</th>\n",
       "      <th>Gross Placed: Total Wholesale $</th>\n",
       "      <th>Invoice #</th>\n",
       "    </tr>\n",
       "  </thead>\n",
       "  <tbody>\n",
       "    <tr>\n",
       "      <th>0</th>\n",
       "      <td>1</td>\n",
       "      <td>N√©e Name Change</td>\n",
       "      <td>2025-01-01</td>\n",
       "      <td>43923768</td>\n",
       "      <td>NEELUXECA</td>\n",
       "      <td>Luxe Name Change Kit</td>\n",
       "      <td>1</td>\n",
       "      <td>40.05</td>\n",
       "      <td>158</td>\n",
       "    </tr>\n",
       "    <tr>\n",
       "      <th>1</th>\n",
       "      <td>2</td>\n",
       "      <td>N√©e Name Change</td>\n",
       "      <td>2025-01-02</td>\n",
       "      <td>44218874</td>\n",
       "      <td>NEELUXEIL</td>\n",
       "      <td>Luxe Name Change Kit</td>\n",
       "      <td>1</td>\n",
       "      <td>40.05</td>\n",
       "      <td>159</td>\n",
       "    </tr>\n",
       "  </tbody>\n",
       "</table>\n",
       "</div>"
      ],
      "text/plain": [
       "   Unnamed: 0       Vendor Name DATE - Split Order Requested to Ship Date  \\\n",
       "0           1  N√©e Name Change                                2025-01-01   \n",
       "1           2  N√©e Name Change                                2025-01-02   \n",
       "\n",
       "   Split Order Number SKU ID (Vendor SKU ID)          Product Name  \\\n",
       "0            43923768              NEELUXECA  Luxe Name Change Kit   \n",
       "1            44218874              NEELUXEIL  Luxe Name Change Kit   \n",
       "\n",
       "   Order Item Quantity (# of units ordered)  Gross Placed: Total Wholesale $  \\\n",
       "0                                         1                            40.05   \n",
       "1                                         1                            40.05   \n",
       "\n",
       "   Invoice #  \n",
       "0        158  \n",
       "1        159  "
      ]
     },
     "execution_count": 3,
     "metadata": {},
     "output_type": "execute_result"
    }
   ],
   "source": [
    "orders = pd.read_excel(\"née_physical_orders_report.xlsx\")\n",
    "orders.head(2)"
   ]
  },
  {
   "cell_type": "code",
   "execution_count": 12,
   "metadata": {},
   "outputs": [],
   "source": [
    "order_number = orders.loc[0, \"Split Order Number\"]\n",
    "sku = orders.loc[0, \"SKU ID (Vendor SKU ID)\"]"
   ]
  },
  {
   "cell_type": "code",
   "execution_count": 7,
   "metadata": {},
   "outputs": [
    {
     "name": "stderr",
     "output_type": "stream",
     "text": [
      "/Users/brandongoldney/Documents/projects/.venv/lib/python3.10/site-packages/openpyxl/worksheet/header_footer.py:48: UserWarning: Cannot parse header or footer so it will be ignored\n",
      "  warn(\"\"\"Cannot parse header or footer so it will be ignored\"\"\")\n"
     ]
    }
   ],
   "source": [
    "template_path = \"Nee Name Change - Invoice - TEMPLATE.xlsx\"\n",
    "wb = load_workbook(template_path)\n",
    "sheet = wb.active"
   ]
  },
  {
   "cell_type": "code",
   "execution_count": 13,
   "metadata": {},
   "outputs": [],
   "source": [
    "sheet[\"B3\"] = order_number\n",
    "sheet[\"B14\"] = sku"
   ]
  },
  {
   "cell_type": "code",
   "execution_count": null,
   "metadata": {},
   "outputs": [],
   "source": [
    "wb.SaveAs(\"test.pdf\", FileFormat=57)"
   ]
  }
 ],
 "metadata": {
  "kernelspec": {
   "display_name": ".venv",
   "language": "python",
   "name": "python3"
  },
  "language_info": {
   "codemirror_mode": {
    "name": "ipython",
    "version": 3
   },
   "file_extension": ".py",
   "mimetype": "text/x-python",
   "name": "python",
   "nbconvert_exporter": "python",
   "pygments_lexer": "ipython3",
   "version": "3.10.16"
  }
 },
 "nbformat": 4,
 "nbformat_minor": 2
}
